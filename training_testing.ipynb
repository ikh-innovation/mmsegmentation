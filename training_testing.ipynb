{
 "cells": [
  {
   "cell_type": "code",
   "execution_count": null,
   "metadata": {},
   "outputs": [],
   "source": [
    "!pip install wandb"
   ]
  },
  {
   "cell_type": "code",
   "execution_count": null,
   "metadata": {},
   "outputs": [],
   "source": [
    "import wandb\n",
    "# wandb.login()\n",
    "!wandb login --relogin dc93d354439f537400012b5558f9b1b4f9d1fbe7\n",
    "# wandb.init(project=\"crack-segmentation\")"
   ]
  },
  {
   "cell_type": "code",
   "execution_count": null,
   "metadata": {},
   "outputs": [],
   "source": [
    "!python tools/train.py \\\n",
    "    configs/heron/segformer_mit-b0_640x640_cracks.py \\\n",
    "    --work-dir work_dirs/segformer_mit-b0_640x640_cracks\n"
   ]
  },
  {
   "cell_type": "code",
   "execution_count": null,
   "metadata": {},
   "outputs": [],
   "source": [
    "import os\n",
    "from pathlib import Path\n",
    "grid_list_path = Path('configs/heron/grid_search_segformer/')\n",
    "grid_list = os.listdir(grid_list_path)\n",
    "for g in grid_list:\n",
    "    cfg = grid_list_path/g\n",
    "    !python tools/train.py {str(cfg)} --work-dir work_dirs/{str(cfg.stem)}"
   ]
  },
  {
   "cell_type": "code",
   "execution_count": 3,
   "metadata": {},
   "outputs": [
    {
     "name": "stdout",
     "output_type": "stream",
     "text": [
      "2022-09-02 10:30:39,180 - mmseg - INFO - Multi-processing start method is `None`\n",
      "2022-09-02 10:30:39,180 - mmseg - INFO - OpenCV num_threads is `16\n",
      "2022-09-02 10:30:39,181 - mmseg - INFO - Loaded 447 images\n",
      "load checkpoint from local path: work_dirs/segformer_mit-b0_dice_OHEM_640x640_cracks_and_potholes/latest.pth\n",
      "tools/test.py:264: UserWarning: SyncBN is only supported with DDP. To be compatible with DP, we convert SyncBN to BN. Please use dist_train.sh which can avoid this error.\n",
      "  warnings.warn(\n",
      "[>>>>>>>>>>>>>>>>>>>>>>>>>>>>>] 447/447, 10.4 task/s, elapsed: 43s, ETA:     0sper class results:\n",
      "\n",
      "+------------+--------+-----------+--------+\n",
      "|   Class    | Fscore | Precision | Recall |\n",
      "+------------+--------+-----------+--------+\n",
      "| background | 99.48  |   99.41   | 99.55  |\n",
      "|   crack    | 52.93  |   54.81   | 51.18  |\n",
      "|  pothole   | 65.77  |   74.14   |  59.1  |\n",
      "+------------+--------+-----------+--------+\n",
      "Summary:\n",
      "\n",
      "+-------+---------+------------+---------+\n",
      "|  aAcc | mFscore | mPrecision | mRecall |\n",
      "+-------+---------+------------+---------+\n",
      "| 98.97 |  72.73  |   76.12    |  69.94  |\n",
      "+-------+---------+------------+---------+\n"
     ]
    }
   ],
   "source": [
    "!python tools/test.py \\\n",
    "    configs/heron/grid_search_segformer/segformer_mit-b0_dice_OHEM_640x640_cracks_and_potholes.py \\\n",
    "    work_dirs/segformer_mit-b0_dice_OHEM_640x640_cracks_and_potholes/latest.pth \\\n",
    "    --work-dir work_dirs/test_segformer_mit-b0_dice_OHEM_640x640_cracks_and_potholes/ \\\n",
    "    --eval mFscore \\\n",
    "    --show-dir work_dirs/test_segformer_mit-b0_dice_OHEM_640x640_cracks_and_potholes \\\n",
    "    --opacity 0.5"
   ]
  },
  {
   "cell_type": "code",
   "execution_count": null,
   "metadata": {},
   "outputs": [],
   "source": [
    "!ls"
   ]
  },
  {
   "cell_type": "code",
   "execution_count": 12,
   "metadata": {},
   "outputs": [
    {
     "ename": "SyntaxError",
     "evalue": "invalid syntax (3895829187.py, line 1)",
     "output_type": "error",
     "traceback": [
      "\u001b[0;36m  Input \u001b[0;32mIn [12]\u001b[0;36m\u001b[0m\n\u001b[0;31m    UNET:+------------+--------+-----------+--------+-------+-------+\u001b[0m\n\u001b[0m                                                                     ^\u001b[0m\n\u001b[0;31mSyntaxError\u001b[0m\u001b[0;31m:\u001b[0m invalid syntax\n"
     ]
    }
   ],
   "source": [
    "UNET:\n",
    "+------------+--------+-----------+--------+-------+-------+\n",
    "|   Class    | Fscore | Precision | Recall |  IoU  |  Acc  |\n",
    "+------------+--------+-----------+--------+-------+-------+\n",
    "| background | 99.16  |    99.5   | 98.82  | 98.33 | 98.82 |\n",
    "|   crack    | 33.53  |   26.34   | 46.13  | 20.14 | 46.13 |\n",
    "+------------+--------+-----------+--------+-------+-------+\n",
    "Summary:\n",
    "\n",
    "+-------+---------+------------+---------+-------+-------+\n",
    "|  aAcc | mFscore | mPrecision | mRecall |  mIoU |  mAcc |\n",
    "+-------+---------+------------+---------+-------+-------+\n",
    "| 98.34 |  66.34  |   62.92    |  72.47  | 59.24 | 72.47 |\n",
    "+-------+---------+------------+---------+-------+-------+"
   ]
  },
  {
   "cell_type": "code",
   "execution_count": 13,
   "metadata": {
    "scrolled": true
   },
   "outputs": [
    {
     "name": "stdout",
     "output_type": "stream",
     "text": [
      "2022-10-07 13:56:57,843 - mmseg - INFO - Multi-processing start method is `None`\n",
      "2022-10-07 13:56:57,844 - mmseg - INFO - OpenCV num_threads is `16\n",
      "2022-10-07 13:56:57,845 - mmseg - INFO - Loaded 447 images\n",
      "load checkpoint from local path: work_dirs/segformer_mit-b5_dice_OHEM_640x640_cracks_and_potholes3/latest.pth\n",
      "tools/test.py:264: UserWarning: SyncBN is only supported with DDP. To be compatible with DP, we convert SyncBN to BN. Please use dist_train.sh which can avoid this error.\n",
      "  warnings.warn(\n",
      "[>>>>>>>>>>>>>>>>>>>>>>>>>>>>>] 447/447, 3.9 task/s, elapsed: 114s, ETA:     0sper class results:\n",
      "\n",
      "+------------+--------+-----------+--------+-------+-------+\n",
      "|   Class    | Fscore | Precision | Recall |  IoU  |  Acc  |\n",
      "+------------+--------+-----------+--------+-------+-------+\n",
      "| background |  99.5  |   99.52   | 99.48  | 99.01 | 99.48 |\n",
      "|   crack    | 56.62  |   55.72   | 57.54  | 39.49 | 57.54 |\n",
      "|  pothole   | 71.69  |   70.32   | 73.12  | 55.88 | 73.12 |\n",
      "+------------+--------+-----------+--------+-------+-------+\n",
      "Summary:\n",
      "\n",
      "+------+---------+------------+---------+-------+-------+\n",
      "| aAcc | mFscore | mPrecision | mRecall |  mIoU |  mAcc |\n",
      "+------+---------+------------+---------+-------+-------+\n",
      "| 99.0 |  75.94  |   75.19    |  76.71  | 64.79 | 76.71 |\n",
      "+------+---------+------------+---------+-------+-------+\n"
     ]
    }
   ],
   "source": [
    "!python tools/test.py \\\n",
    "    configs/heron/grid_search_segformer/segformer_mit-b5_dice_OHEM_640x640_cracks_and_potholes.py \\\n",
    "    work_dirs/segformer_mit-b5_dice_OHEM_640x640_cracks_and_potholes3/latest.pth \\\n",
    "    --work-dir work_dirs/eval_segformer_mit-b5_dice_OHEM_640x640_cracks_and_potholes/ \\\n",
    "    --eval mFscore mIoU \\\n",
    "    --show-dir work_dirs/eval_segformer_mit-b5_dice_OHEM_640x640_cracks_and_potholes/ \\\n",
    "    --opacity 0.5"
   ]
  },
  {
   "cell_type": "code",
   "execution_count": 20,
   "metadata": {},
   "outputs": [
    {
     "name": "stdout",
     "output_type": "stream",
     "text": [
      "2022-10-07 17:10:16,456 - mmseg - INFO - Multi-processing start method is `None`\n",
      "2022-10-07 17:10:16,457 - mmseg - INFO - OpenCV num_threads is `16\n",
      "2022-10-07 17:10:16,457 - mmseg - INFO - Loaded 1 images\n",
      "/mnt/storage/Projects/heron/mmsegmentation/mmseg/models/losses/cross_entropy_loss.py:235: UserWarning: Default ``avg_non_ignore`` is False, if you would like to ignore the certain label and average loss over non-ignore labels, which is the same with PyTorch official cross_entropy, set ``avg_non_ignore=True``.\n",
      "  warnings.warn(\n",
      "load checkpoint from local path: work_dirs/unet_s5_d16_640x640_lane/latest.pth\n",
      "tools/test.py:264: UserWarning: SyncBN is only supported with DDP. To be compatible with DP, we convert SyncBN to BN. Please use dist_train.sh which can avoid this error.\n",
      "  warnings.warn(\n",
      "[>>>>>>>>>>>>>>>>>>>>>>>>>>>>>>>>>>>] 1/1, 0.6 task/s, elapsed: 2s, ETA:     0sper class results:\n",
      "\n",
      "+------------+--------+-----------+--------+\n",
      "|   Class    | Fscore | Precision | Recall |\n",
      "+------------+--------+-----------+--------+\n",
      "| background | 85.62  |   96.91   | 76.69  |\n",
      "|    lane    | 90.31  |   83.74   | 98.01  |\n",
      "+------------+--------+-----------+--------+\n",
      "Summary:\n",
      "\n",
      "+-------+---------+------------+---------+\n",
      "|  aAcc | mFscore | mPrecision | mRecall |\n",
      "+-------+---------+------------+---------+\n",
      "| 88.42 |  87.97  |   90.33    |  87.35  |\n",
      "+-------+---------+------------+---------+\n"
     ]
    }
   ],
   "source": [
    "!python tools/test.py \\\n",
    "    configs/heron/unet_s5_d16_640x640_lane.py \\\n",
    "    work_dirs/unet_s5_d16_640x640_lane/latest.pth \\\n",
    "    --work-dir work_dirs/eval_unet_s5_d16_640x640_lane5/ \\\n",
    "    --eval mFscore \\\n",
    "    --show-dir work_dirs/eval_unet_s5_d16_640x640_lane5/ \\\n",
    "    --opacity 0.5"
   ]
  },
  {
   "cell_type": "code",
   "execution_count": 21,
   "metadata": {},
   "outputs": [
    {
     "name": "stdout",
     "output_type": "stream",
     "text": [
      "2022-10-03 17:18:54,762 - mmseg - INFO - Multi-processing start method is `None`\n",
      "2022-10-03 17:18:54,762 - mmseg - INFO - OpenCV num_threads is `16\n",
      "2022-10-03 17:18:54,766 - mmseg - INFO - Loaded 120 images\n",
      "load checkpoint from local path: work_dirs/segformer_mit-b0_dice_OHEM_pothole600_100epochs/latest.pth\n",
      "tools/test.py:264: UserWarning: SyncBN is only supported with DDP. To be compatible with DP, we convert SyncBN to BN. Please use dist_train.sh which can avoid this error.\n",
      "  warnings.warn(\n",
      "[>>>>>>>>>>>>>>>>>>>>>>>>>>>>>>] 120/120, 18.8 task/s, elapsed: 6s, ETA:     0sper class results:\n",
      "\n",
      "+------------+--------+-----------+--------+-------+-------+\n",
      "|   Class    | Fscore | Precision | Recall |  IoU  |  Acc  |\n",
      "+------------+--------+-----------+--------+-------+-------+\n",
      "| background | 99.49  |   99.69   | 99.29  | 98.99 | 99.29 |\n",
      "|  pothole   |  84.0  |   78.96   | 89.73  | 72.42 | 89.73 |\n",
      "+------------+--------+-----------+--------+-------+-------+\n",
      "Summary:\n",
      "\n",
      "+-------+---------+------------+---------+------+-------+\n",
      "|  aAcc | mFscore | mPrecision | mRecall | mIoU |  mAcc |\n",
      "+-------+---------+------------+---------+------+-------+\n",
      "| 99.02 |  91.75  |   89.33    |  94.51  | 85.7 | 94.51 |\n",
      "+-------+---------+------------+---------+------+-------+\n"
     ]
    }
   ],
   "source": [
    "!python tools/test.py \\\n",
    "    configs/heron/segformer_mit-b0_dice_OHEM_pothole600.py \\\n",
    "    work_dirs/segformer_mit-b0_dice_OHEM_pothole600_100epochs/latest.pth \\\n",
    "    --work-dir work_dirs/eval_segformer_mit-b0_dice_OHEM_pothole600_100epochs/ \\\n",
    "    --eval mFscore mIoU \\\n",
    "    --show-dir work_dirs/eval_segformer_mit-b0_dice_OHEM_pothole600_100epochs/ \\\n",
    "    --opacity 0.5"
   ]
  },
  {
   "cell_type": "code",
   "execution_count": 16,
   "metadata": {},
   "outputs": [
    {
     "name": "stdout",
     "output_type": "stream",
     "text": [
      "2022-09-30 15:35:17,056 - mmseg - INFO - Multi-processing start method is `None`\n",
      "2022-09-30 15:35:17,056 - mmseg - INFO - OpenCV num_threads is `16\n",
      "2022-09-30 15:35:17,057 - mmseg - INFO - Loaded 1 images\n",
      "/mnt/storage/Projects/heron/mmsegmentation/mmseg/models/losses/cross_entropy_loss.py:235: UserWarning: Default ``avg_non_ignore`` is False, if you would like to ignore the certain label and average loss over non-ignore labels, which is the same with PyTorch official cross_entropy, set ``avg_non_ignore=True``.\n",
      "  warnings.warn(\n",
      "load checkpoint from local path: work_dirs/segformer_mit-b5_dice_OHEM_lane_100epochs_2losses/latest.pth\n",
      "tools/test.py:264: UserWarning: SyncBN is only supported with DDP. To be compatible with DP, we convert SyncBN to BN. Please use dist_train.sh which can avoid this error.\n",
      "  warnings.warn(\n",
      "[>>>>>>>>>>>>>>>>>>>>>>>>>>>>>>>>>>>] 1/1, 1.3 task/s, elapsed: 1s, ETA:     0sper class results:\n",
      "\n",
      "+------------+--------+-----------+--------+\n",
      "|   Class    | Fscore | Precision | Recall |\n",
      "+------------+--------+-----------+--------+\n",
      "| background | 99.49  |   99.94   | 99.04  |\n",
      "|    lane    | 99.56  |   99.17   | 99.95  |\n",
      "+------------+--------+-----------+--------+\n",
      "Summary:\n",
      "\n",
      "+-------+---------+------------+---------+\n",
      "|  aAcc | mFscore | mPrecision | mRecall |\n",
      "+-------+---------+------------+---------+\n",
      "| 99.52 |  99.52  |   99.55    |  99.49  |\n",
      "+-------+---------+------------+---------+\n"
     ]
    }
   ],
   "source": [
    "!python tools/test.py \\\n",
    "    configs/heron/segformer_mit-b5_dice_OHEM_lane.py \\\n",
    "    work_dirs/segformer_mit-b5_dice_OHEM_lane_background/latest.pth \\\n",
    "    --work-dir work_dirs/eval3_segformer_mit-b5_dice_OHEM_lane_100epochs_2losses/ \\\n",
    "    --eval mFscore \\\n",
    "    --show-dir work_dirs/eval3_segformer_mit-b5_dice_OHEM_lane_100epochs_2losses/ \\\n",
    "    --opacity 0.5"
   ]
  },
  {
   "cell_type": "code",
   "execution_count": null,
   "metadata": {},
   "outputs": [],
   "source": [
    "+------------+--------+-----------+--------+\n",
    "|   Class    | Fscore | Precision | Recall |\n",
    "+------------+--------+-----------+--------+\n",
    "| background | 96.54  |   97.92   | 95.21  |\n",
    "|  pothole   | 70.11  |   62.53   | 79.79  |\n",
    "+------------+--------+-----------+--------+\n",
    "Summary:\n",
    "\n",
    "+------+---------+------------+---------+\n",
    "| aAcc | mFscore | mPrecision | mRecall |\n",
    "+------+---------+------------+---------+\n",
    "| 93.8 |  83.33  |   80.22    |   87.5  |\n",
    "+------+---------+------------+---------+"
   ]
  }
 ],
 "metadata": {
  "colab": {
   "collapsed_sections": [
    "eUcuC3dUv32I",
    "cs4gJZQSr3if"
   ],
   "machine_shape": "hm",
   "name": "HERON Cracks MMSegmentation.ipynb",
   "provenance": [
    {
     "file_id": "https://github.com/open-mmlab/mmsegmentation/blob/master/demo/MMSegmentation_Tutorial.ipynb",
     "timestamp": 1650290840950
    }
   ]
  },
  "kernelspec": {
   "display_name": "Python 3 (ipykernel)",
   "language": "python",
   "name": "python3"
  },
  "language_info": {
   "codemirror_mode": {
    "name": "ipython",
    "version": 3
   },
   "file_extension": ".py",
   "mimetype": "text/x-python",
   "name": "python",
   "nbconvert_exporter": "python",
   "pygments_lexer": "ipython3",
   "version": "3.8.13"
  },
  "pycharm": {
   "stem_cell": {
    "cell_type": "raw",
    "metadata": {
     "collapsed": false
    },
    "source": []
   }
  },
  "widgets": {
   "application/vnd.jupyter.widget-state+json": {
    "0d6e09d72df34fca856b7a31f9a76509": {
     "model_module": "@jupyter-widgets/controls",
     "model_module_version": "1.5.0",
     "model_name": "FloatProgressModel",
     "state": {
      "_dom_classes": [],
      "_model_module": "@jupyter-widgets/controls",
      "_model_module_version": "1.5.0",
      "_model_name": "FloatProgressModel",
      "_view_count": null,
      "_view_module": "@jupyter-widgets/controls",
      "_view_module_version": "1.5.0",
      "_view_name": "ProgressView",
      "bar_style": "",
      "description": "",
      "description_tooltip": null,
      "layout": "IPY_MODEL_26454193616942a4ac15f20b71148a99",
      "max": 1,
      "min": 0,
      "orientation": "horizontal",
      "style": "IPY_MODEL_28427c3a3d2743879ed5b3aca10041cc",
      "value": 1
     }
    },
    "1624ce9a52f34cd7b64e484bb6fb2c83": {
     "model_module": "@jupyter-widgets/base",
     "model_module_version": "1.2.0",
     "model_name": "LayoutModel",
     "state": {
      "_model_module": "@jupyter-widgets/base",
      "_model_module_version": "1.2.0",
      "_model_name": "LayoutModel",
      "_view_count": null,
      "_view_module": "@jupyter-widgets/base",
      "_view_module_version": "1.2.0",
      "_view_name": "LayoutView",
      "align_content": null,
      "align_items": null,
      "align_self": null,
      "border": null,
      "bottom": null,
      "display": null,
      "flex": null,
      "flex_flow": null,
      "grid_area": null,
      "grid_auto_columns": null,
      "grid_auto_flow": null,
      "grid_auto_rows": null,
      "grid_column": null,
      "grid_gap": null,
      "grid_row": null,
      "grid_template_areas": null,
      "grid_template_columns": null,
      "grid_template_rows": null,
      "height": null,
      "justify_content": null,
      "justify_items": null,
      "left": null,
      "margin": null,
      "max_height": null,
      "max_width": null,
      "min_height": null,
      "min_width": null,
      "object_fit": null,
      "object_position": null,
      "order": null,
      "overflow": null,
      "overflow_x": null,
      "overflow_y": null,
      "padding": null,
      "right": null,
      "top": null,
      "visibility": null,
      "width": null
     }
    },
    "26454193616942a4ac15f20b71148a99": {
     "model_module": "@jupyter-widgets/base",
     "model_module_version": "1.2.0",
     "model_name": "LayoutModel",
     "state": {
      "_model_module": "@jupyter-widgets/base",
      "_model_module_version": "1.2.0",
      "_model_name": "LayoutModel",
      "_view_count": null,
      "_view_module": "@jupyter-widgets/base",
      "_view_module_version": "1.2.0",
      "_view_name": "LayoutView",
      "align_content": null,
      "align_items": null,
      "align_self": null,
      "border": null,
      "bottom": null,
      "display": null,
      "flex": null,
      "flex_flow": null,
      "grid_area": null,
      "grid_auto_columns": null,
      "grid_auto_flow": null,
      "grid_auto_rows": null,
      "grid_column": null,
      "grid_gap": null,
      "grid_row": null,
      "grid_template_areas": null,
      "grid_template_columns": null,
      "grid_template_rows": null,
      "height": null,
      "justify_content": null,
      "justify_items": null,
      "left": null,
      "margin": null,
      "max_height": null,
      "max_width": null,
      "min_height": null,
      "min_width": null,
      "object_fit": null,
      "object_position": null,
      "order": null,
      "overflow": null,
      "overflow_x": null,
      "overflow_y": null,
      "padding": null,
      "right": null,
      "top": null,
      "visibility": null,
      "width": null
     }
    },
    "28427c3a3d2743879ed5b3aca10041cc": {
     "model_module": "@jupyter-widgets/controls",
     "model_module_version": "1.5.0",
     "model_name": "ProgressStyleModel",
     "state": {
      "_model_module": "@jupyter-widgets/controls",
      "_model_module_version": "1.5.0",
      "_model_name": "ProgressStyleModel",
      "_view_count": null,
      "_view_module": "@jupyter-widgets/base",
      "_view_module_version": "1.2.0",
      "_view_name": "StyleView",
      "bar_color": null,
      "description_width": ""
     }
    },
    "372deac73af241fd96508138bceaf535": {
     "model_module": "@jupyter-widgets/base",
     "model_module_version": "1.2.0",
     "model_name": "LayoutModel",
     "state": {
      "_model_module": "@jupyter-widgets/base",
      "_model_module_version": "1.2.0",
      "_model_name": "LayoutModel",
      "_view_count": null,
      "_view_module": "@jupyter-widgets/base",
      "_view_module_version": "1.2.0",
      "_view_name": "LayoutView",
      "align_content": null,
      "align_items": null,
      "align_self": null,
      "border": null,
      "bottom": null,
      "display": null,
      "flex": null,
      "flex_flow": null,
      "grid_area": null,
      "grid_auto_columns": null,
      "grid_auto_flow": null,
      "grid_auto_rows": null,
      "grid_column": null,
      "grid_gap": null,
      "grid_row": null,
      "grid_template_areas": null,
      "grid_template_columns": null,
      "grid_template_rows": null,
      "height": null,
      "justify_content": null,
      "justify_items": null,
      "left": null,
      "margin": null,
      "max_height": null,
      "max_width": null,
      "min_height": null,
      "min_width": null,
      "object_fit": null,
      "object_position": null,
      "order": null,
      "overflow": null,
      "overflow_x": null,
      "overflow_y": null,
      "padding": null,
      "right": null,
      "top": null,
      "visibility": null,
      "width": null
     }
    },
    "52e0f6fed82e44588bd550347212f76e": {
     "model_module": "@jupyter-widgets/controls",
     "model_module_version": "1.5.0",
     "model_name": "DescriptionStyleModel",
     "state": {
      "_model_module": "@jupyter-widgets/controls",
      "_model_module_version": "1.5.0",
      "_model_name": "DescriptionStyleModel",
      "_view_count": null,
      "_view_module": "@jupyter-widgets/base",
      "_view_module_version": "1.2.0",
      "_view_name": "StyleView",
      "description_width": ""
     }
    },
    "e47853c85b0649f0a045f6e0a4331cc6": {
     "model_module": "@jupyter-widgets/controls",
     "model_module_version": "1.5.0",
     "model_name": "LabelModel",
     "state": {
      "_dom_classes": [],
      "_model_module": "@jupyter-widgets/controls",
      "_model_module_version": "1.5.0",
      "_model_name": "LabelModel",
      "_view_count": null,
      "_view_module": "@jupyter-widgets/controls",
      "_view_module_version": "1.5.0",
      "_view_name": "LabelView",
      "description": "",
      "description_tooltip": null,
      "layout": "IPY_MODEL_1624ce9a52f34cd7b64e484bb6fb2c83",
      "placeholder": "​",
      "style": "IPY_MODEL_52e0f6fed82e44588bd550347212f76e",
      "value": "0.012 MB of 0.012 MB uploaded (0.000 MB deduped)\r"
     }
    },
    "ff8caaf173d8490b9a37f078ae98ef57": {
     "model_module": "@jupyter-widgets/controls",
     "model_module_version": "1.5.0",
     "model_name": "VBoxModel",
     "state": {
      "_dom_classes": [],
      "_model_module": "@jupyter-widgets/controls",
      "_model_module_version": "1.5.0",
      "_model_name": "VBoxModel",
      "_view_count": null,
      "_view_module": "@jupyter-widgets/controls",
      "_view_module_version": "1.5.0",
      "_view_name": "VBoxView",
      "box_style": "",
      "children": [
       "IPY_MODEL_e47853c85b0649f0a045f6e0a4331cc6",
       "IPY_MODEL_0d6e09d72df34fca856b7a31f9a76509"
      ],
      "layout": "IPY_MODEL_372deac73af241fd96508138bceaf535"
     }
    }
   }
  }
 },
 "nbformat": 4,
 "nbformat_minor": 4
}
