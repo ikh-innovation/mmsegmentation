{
 "cells": [
  {
   "cell_type": "markdown",
   "metadata": {
    "id": "QS8YHrEhbpas",
    "tags": []
   },
   "source": [
    "## Install MMSegmentation\n",
    "\n",
    "https://mmsegmentation.readthedocs.io/en/latest/get_started.html#installation\n",
    "\n",
    "(install from source not pip)\n",
    "\n",
    "We use PyTorch 1.10 and CUDA 11.1 for this tutorial. You may install other versions by change the version number in pip install command. "
   ]
  },
  {
   "cell_type": "code",
   "execution_count": null,
   "metadata": {
    "colab": {
     "base_uri": "https://localhost:8080/"
    },
    "executionInfo": {
     "elapsed": 311,
     "status": "ok",
     "timestamp": 1651743530204,
     "user": {
      "displayName": "Inno ai",
      "userId": "16758988899815127547"
     },
     "user_tz": -180
    },
    "id": "nS0obCHu5hW-",
    "outputId": "a52282cd-2da3-4534-bb8e-7defda31b97f"
   },
   "outputs": [],
   "source": [
    "%cd mmsegmentation"
   ]
  },
  {
   "cell_type": "code",
   "execution_count": null,
   "metadata": {
    "colab": {
     "base_uri": "https://localhost:8080/"
    },
    "executionInfo": {
     "elapsed": 11709,
     "status": "ok",
     "timestamp": 1651743267587,
     "user": {
      "displayName": "Inno ai",
      "userId": "16758988899815127547"
     },
     "user_tz": -180
    },
    "id": "mAE_h7XhPT7d",
    "outputId": "924e05c5-a480-49ad-931f-642907c1d482"
   },
   "outputs": [],
   "source": [
    "# Check Pytorch installation\n",
    "import torch, torchvision\n",
    "print(torch.__version__, torch.cuda.is_available())\n",
    "\n",
    "# Check MMSegmentation installation\n",
    "import mmseg\n",
    "import mmcv\n",
    "print(mmseg.__version__)"
   ]
  },
  {
   "cell_type": "markdown",
   "metadata": {},
   "source": [
    "#### CPU training"
   ]
  },
  {
   "cell_type": "code",
   "execution_count": null,
   "metadata": {},
   "outputs": [],
   "source": [
    "import os\n",
    "os.environ['CUDA_LAUNCH_BLOCKING'] = '1'\n",
    "# and/or\n",
    "os.environ['CUDA_VISIBLE_DEVICES'] = '-1'"
   ]
  },
  {
   "cell_type": "markdown",
   "metadata": {
    "id": "AcZg6x_K5Zs3",
    "tags": []
   },
   "source": [
    "## CRACKS_AND_POTHOLES DATASET PREPROCESS"
   ]
  },
  {
   "cell_type": "markdown",
   "metadata": {
    "tags": []
   },
   "source": [
    "### download and unzip"
   ]
  },
  {
   "cell_type": "code",
   "execution_count": null,
   "metadata": {
    "colab": {
     "base_uri": "https://localhost:8080/"
    },
    "executionInfo": {
     "elapsed": 14833,
     "status": "ok",
     "timestamp": 1651743282412,
     "user": {
      "displayName": "Inno ai",
      "userId": "16758988899815127547"
     },
     "user_tz": -180
    },
    "id": "TFIt7MHq5Wls",
    "outputId": "589a8ba0-db9f-4f35-a36e-e337a70343c0"
   },
   "outputs": [],
   "source": [
    "!git clone https://github.com/biankatpas/Cracks-and-Potholes-in-Road-Images-Dataset.git lane"
   ]
  },
  {
   "cell_type": "markdown",
   "metadata": {
    "id": "cs4gJZQSr3if",
    "tags": []
   },
   "source": [
    "### Modify dataset"
   ]
  },
  {
   "cell_type": "code",
   "execution_count": null,
   "metadata": {
    "executionInfo": {
     "elapsed": 5,
     "status": "ok",
     "timestamp": 1651744003105,
     "user": {
      "displayName": "Inno ai",
      "userId": "16758988899815127547"
     },
     "user_tz": -180
    },
    "id": "o-kGhm4C70Yb"
   },
   "outputs": [],
   "source": [
    "import os\n",
    "import os.path as osp\n",
    "import numpy as np\n",
    "from PIL import Image\n",
    "import mmcv\n",
    "\n",
    "\n",
    "data_root = 'lane'\n",
    "# data_root = 'cracks'\n",
    "\n",
    "data = 'Dataset'\n",
    "\n",
    "classes = ('background', 'lane') #, 'lane')\n",
    "palette = [[127,127,127], [70, 255, 0]] #, [70, 255, 0]]\n",
    "\n",
    "# classes = ('background', 'crack')\n",
    "# palette = [[127,127,127], [255, 70, 0]]"
   ]
  },
  {
   "cell_type": "code",
   "execution_count": null,
   "metadata": {},
   "outputs": [],
   "source": [
    "split_dir = 'splits'\n",
    "mmcv.mkdir_or_exist(osp.join(data_root, split_dir))\n",
    "filename_list = os.listdir(osp.join(data_root, data))"
   ]
  },
  {
   "cell_type": "markdown",
   "metadata": {
    "tags": []
   },
   "source": [
    "### split train/val set randomly into split txt files"
   ]
  },
  {
   "cell_type": "code",
   "execution_count": null,
   "metadata": {
    "executionInfo": {
     "elapsed": 3,
     "status": "ok",
     "timestamp": 1651743282412,
     "user": {
      "displayName": "Inno ai",
      "userId": "16758988899815127547"
     },
     "user_tz": -180
    },
    "id": "WbeLYCp2k5hl"
   },
   "outputs": [],
   "source": [
    "with open(osp.join(data_root, split_dir, 'train.txt'), 'w') as f:\n",
    "  # select first 80% as train set\n",
    "  train_length = int(len(filename_list)*8/10)\n",
    "  f.writelines(line + '\\n' for line in filename_list[:train_length])\n",
    "with open(osp.join(data_root, split_dir, 'val.txt'), 'w') as f:\n",
    "  # select last 20% as train set\n",
    "  f.writelines(line + '\\n' for line in filename_list[train_length:])"
   ]
  },
  {
   "cell_type": "markdown",
   "metadata": {
    "tags": []
   },
   "source": [
    "### remove unessessary folder stracture"
   ]
  },
  {
   "cell_type": "code",
   "execution_count": null,
   "metadata": {
    "executionInfo": {
     "elapsed": 428,
     "status": "ok",
     "timestamp": 1651743282838,
     "user": {
      "displayName": "Inno ai",
      "userId": "16758988899815127547"
     },
     "user_tz": -180
    },
    "id": "N9g7c-IH1EQy"
   },
   "outputs": [],
   "source": [
    "for folder in filename_list:\n",
    "    for file in  os.listdir(os.path.join(data_root, data, folder)):\n",
    "        os.rename(os.path.join(data_root, data, folder, file), os.path.join(data_root, data, file))\n",
    "    os.rmdir(os.path.join(data_root, data, folder))"
   ]
  },
  {
   "cell_type": "markdown",
   "metadata": {},
   "source": [
    "### modify masks for mmseg compatability"
   ]
  },
  {
   "cell_type": "code",
   "execution_count": null,
   "metadata": {},
   "outputs": [],
   "source": [
    "filename_list[0:5]"
   ]
  },
  {
   "cell_type": "code",
   "execution_count": null,
   "metadata": {},
   "outputs": [],
   "source": [
    "extensions = ['_LANE.png'] #, '_LANE.png']\n",
    "# extensions = ['_CRACK.png']\n",
    "\n",
    "for file in filename_list:\n",
    "    \n",
    "    #set dimensions to shape of a mask\n",
    "    multiclass_mask = np.zeros(np.asarray(Image.open(osp.join(data_root, data, file + extensions[0]))).shape[:2])\n",
    "    \n",
    "    for i, c in enumerate(extensions):\n",
    "            \n",
    "        im = Image.open(osp.join(data_root, data, file + c))\n",
    "        \n",
    "        # convert to binary\n",
    "        im = im.convert('L').convert('1')\n",
    "        mask_array = np.asarray(im)\n",
    "        \n",
    "        # write to combined mask\n",
    "        multiclass_mask[mask_array] = i+1\n",
    "\n",
    "    \n",
    "    multiclass_img = Image.fromarray(multiclass_mask).convert('P')\n",
    "    multiclass_img.putpalette(np.array(palette, dtype=np.uint8))\n",
    "\n",
    "    multiclass_img.save(osp.join(data_root, data, file + '_LABELS.png'))"
   ]
  },
  {
   "cell_type": "code",
   "execution_count": null,
   "metadata": {
    "colab": {
     "base_uri": "https://localhost:8080/",
     "height": 331
    },
    "executionInfo": {
     "elapsed": 800,
     "status": "ok",
     "timestamp": 1651662080758,
     "user": {
      "displayName": "Inno ai",
      "userId": "16758988899815127547"
     },
     "user_tz": -180
    },
    "id": "78LIci7F9WWI",
    "outputId": "7561e51a-f46a-486b-b2d5-6298b6fe63aa"
   },
   "outputs": [],
   "source": [
    "# Let's take a look at the dataset\n",
    "import matplotlib.pyplot as plt\n",
    "\n",
    "img = mmcv.imread('lane/Dataset/1007599_RS_386_386RS289112_28920_LABELS.png')\n",
    "plt.figure(figsize=(8, 6))\n",
    "plt.imshow(mmcv.bgr2rgb(img))\n",
    "plt.show()"
   ]
  },
  {
   "cell_type": "markdown",
   "metadata": {
    "tags": []
   },
   "source": [
    "### calculate averages"
   ]
  },
  {
   "cell_type": "code",
   "execution_count": null,
   "metadata": {
    "tags": []
   },
   "outputs": [],
   "source": [
    "from PIL import Image\n",
    "\n",
    "means =  np.empty((0,3), float)\n",
    "stds =  np.empty((0,3), float)\n",
    "\n",
    "for file in mmcv.scandir(osp.join(data_root, data), suffix='_RAW.jpg'):\n",
    "    im = Image.open(osp.join(data_root, data, file))\n",
    "    im = np.asarray(im)\n",
    "    mean = np.mean(im, axis=(0,1))\n",
    "    std = np.std(im, axis=(0,1))\n",
    "    means = np.append(means, np.expand_dims(mean, 0), axis=0)\n",
    "    stds = np.append(stds, np.expand_dims(std, 0), axis=0)\n",
    "\n",
    "print(means.shape)\n",
    "mean_total = np.sum(means, 0)/means.shape[0]\n",
    "std_total = np.sum(stds, 0)/stds.shape[0]\n",
    "print(\"mean \", mean_total)\n",
    "print(\"std \", std_total)"
   ]
  },
  {
   "cell_type": "code",
   "execution_count": null,
   "metadata": {},
   "outputs": [],
   "source": [
    "mean=[123.675, 116.28, 103.53], std=[58.395, 57.12, 57.375] #old\n",
    "mean=[125.45, 123.62, 121.77], std=[28.85, 25.91, 25.39] # cracks (with val)"
   ]
  },
  {
   "cell_type": "markdown",
   "metadata": {
    "tags": []
   },
   "source": [
    "### dataset registration"
   ]
  },
  {
   "cell_type": "markdown",
   "metadata": {
    "id": "HchvmGYB_rrO"
   },
   "source": [
    "Registering new dataset class and implementing `load_annotations` function.\n",
    "\n",
    "For non-temporary registration, add it in: 'mmseg/datasets/cracks_and_potholes_dataset.py'\n",
    "and modify  'mmseg/datasets/__init__.py'"
   ]
  },
  {
   "cell_type": "code",
   "execution_count": null,
   "metadata": {
    "colab": {
     "base_uri": "https://localhost:8080/",
     "height": 381
    },
    "executionInfo": {
     "elapsed": 7,
     "status": "error",
     "timestamp": 1651744003107,
     "user": {
      "displayName": "Inno ai",
      "userId": "16758988899815127547"
     },
     "user_tz": -180
    },
    "id": "LbsWOw62_o-X",
    "outputId": "a6963a08-b638-4ad9-e223-2f4bcc7f8cd7"
   },
   "outputs": [],
   "source": [
    "from mmseg.datasets.builder import DATASETS\n",
    "from mmseg.datasets.custom import CustomDataset\n",
    "\n",
    "@DATASETS.register_module()\n",
    "class CracksAndPotholesDataset(CustomDataset):\n",
    "  CLASSES = classes\n",
    "  PALETTE = palette\n",
    "  def __init__(self, split, **kwargs):\n",
    "    super().__init__(img_suffix='_RAW.jpg', seg_map_suffix='_LABELS.png', \n",
    "                     split=split, **kwargs)\n",
    "    assert osp.exists(self.img_dir)\n",
    "    assert self.split is not None\n",
    "    "
   ]
  },
  {
   "cell_type": "markdown",
   "metadata": {},
   "source": [
    "## POTHOLES600 DATASET PREPROCESS"
   ]
  },
  {
   "cell_type": "markdown",
   "metadata": {},
   "source": [
    "Link to dataset: https://sites.google.com/view/pothole-600/dataset\n",
    "\n",
    "make a clean copy of pothole600 dataset into mmsegmentation root"
   ]
  },
  {
   "cell_type": "markdown",
   "metadata": {},
   "source": [
    "### Modify dataset"
   ]
  },
  {
   "cell_type": "code",
   "execution_count": null,
   "metadata": {},
   "outputs": [],
   "source": [
    "import os\n",
    "import os.path as osp\n",
    "import shutil\n",
    "import numpy as np\n",
    "from PIL import Image\n",
    "import mmcv\n",
    "\n",
    "\n",
    "data_root = 'pothole600/'\n",
    "\n",
    "#original\n",
    "training_data = 'training/rgb'\n",
    "training_labels = 'training/label'\n",
    "\n",
    "validation_data = 'validation/rgb'\n",
    "validation_labels = 'validation/label'\n",
    "\n",
    "testing_data = 'testing/rgb'\n",
    "testing_labels = 'testing/label'\n",
    "\n",
    "#mmsegmentation stracture \n",
    "# https://github.com/open-mmlab/mmsegmentation/blob/master/docs/en/tutorials/customize_datasets.md\n",
    "mm_training_data = 'img_dir/train' \n",
    "mm_training_labels = 'ann_dir/train'\n",
    "\n",
    "mm_validation_data = 'img_dir/val'\n",
    "mm_validation_labels = 'ann_dir/val'\n",
    "\n",
    "mm_testing_data = 'img_dir/test'\n",
    "mm_testing_labels = 'ann_dir/test'\n",
    "\n",
    "\n",
    "classes = ('background', 'pothole') #, 'lane')\n",
    "palette = [[127,127,127], [70, 255, 0]] #, [70, 255, 0]]\n"
   ]
  },
  {
   "cell_type": "markdown",
   "metadata": {},
   "source": [
    "### rearrange folders"
   ]
  },
  {
   "cell_type": "code",
   "execution_count": null,
   "metadata": {},
   "outputs": [],
   "source": [
    "shutil.move(data_root+training_data, data_root+mm_training_data)\n",
    "shutil.move(data_root+training_labels, data_root+mm_training_labels)\n",
    "shutil.move(data_root+validation_data, data_root+mm_validation_data)\n",
    "shutil.move(data_root+validation_labels, data_root+mm_validation_labels)\n",
    "shutil.move(data_root+testing_data, data_root+mm_testing_data)\n",
    "shutil.move(data_root+testing_labels, data_root+mm_testing_labels)"
   ]
  },
  {
   "cell_type": "markdown",
   "metadata": {},
   "source": [
    "### modify masks for mmseg compatability"
   ]
  },
  {
   "cell_type": "code",
   "execution_count": null,
   "metadata": {},
   "outputs": [],
   "source": [
    "annotations = [data_root+mm_training_labels, data_root+mm_validation_labels, data_root+mm_testing_labels]\n",
    "\n",
    "for ann_set in annotations:\n",
    "    for file in os.listdir(ann_set):\n",
    "\n",
    "        im = Image.open(osp.join(ann_set, file))\n",
    "\n",
    "        # convert to binary\n",
    "        im = im.convert('L').convert('1')\n",
    "        mask_array = np.asarray(im)\n",
    "\n",
    "        img = Image.fromarray(mask_array).convert('P')\n",
    "        img.putpalette(np.array(palette, dtype=np.uint8))\n",
    "\n",
    "        img.save(osp.join(ann_set,file))"
   ]
  },
  {
   "cell_type": "code",
   "execution_count": null,
   "metadata": {},
   "outputs": [],
   "source": [
    "# Let's take a look at the dataset\n",
    "import matplotlib.pyplot as plt\n",
    "\n",
    "im = data_root + mm_training_data + '/0000.png'\n",
    "img = mmcv.imread(im)\n",
    "plt.figure(figsize=(8, 6))\n",
    "plt.imshow(mmcv.bgr2rgb(img))\n",
    "plt.show()"
   ]
  },
  {
   "cell_type": "markdown",
   "metadata": {},
   "source": [
    "dataset has been split to 240/180/180. Manually transfer the desired photos to desired folders. \n",
    "\n",
    "all test-->  train\n",
    "60 from val --> train\n",
    "\n",
    "480/120"
   ]
  },
  {
   "cell_type": "code",
   "execution_count": null,
   "metadata": {},
   "outputs": [],
   "source": [
    "train_len = len(os.listdir(data_root+mm_training_data))\n",
    "\n",
    "\n",
    "for i, file in enumerate(os.listdir(data_root+mm_testing_data)):\n",
    "        os.rename(os.path.join(data_root+mm_testing_data, file),\n",
    "                  os.path.join(data_root+mm_training_data, str(train_len+i).zfill(4) +'.png'))\n",
    "        \n",
    "for i, file in enumerate(os.listdir(data_root+mm_testing_labels)):\n",
    "        os.rename(os.path.join(data_root+mm_testing_labels, file),\n",
    "                  os.path.join(data_root+mm_training_labels, str(train_len+i).zfill(4) +'.png'))\n",
    "        \n",
    "        \n",
    "train_len = len(os.listdir(data_root+mm_training_data))\n",
    "\n",
    "for i, file in enumerate(os.listdir(data_root+mm_validation_data)[120:]):\n",
    "        os.rename(os.path.join(data_root+mm_validation_data, file),\n",
    "                  os.path.join(data_root+mm_training_data, str(train_len+i).zfill(4) +'.png'))\n",
    "        \n",
    "for i, file in enumerate(os.listdir(data_root+mm_validation_labels)[120:]):\n",
    "        os.rename(os.path.join(data_root+mm_validation_labels, file),\n",
    "                  os.path.join(data_root+mm_training_labels, str(train_len+i).zfill(4) +'.png'))\n",
    "\n",
    "os.rmdir(data_root+mm_testing_labels)\n",
    "os.rmdir(data_root+mm_testing_data)"
   ]
  },
  {
   "cell_type": "code",
   "execution_count": null,
   "metadata": {},
   "outputs": [],
   "source": [
    "len(os.listdir(data_root+mm_training_data))"
   ]
  },
  {
   "cell_type": "markdown",
   "metadata": {
    "tags": []
   },
   "source": [
    "### dataset registration"
   ]
  },
  {
   "cell_type": "markdown",
   "metadata": {
    "id": "HchvmGYB_rrO"
   },
   "source": [
    "Registering new dataset class and implementing `load_annotations` function.\n",
    "\n",
    "For non-temporary registration, add it in: 'mmseg/datasets/cracks_and_potholes_dataset.py'\n",
    "and modify  'mmseg/datasets/__init__.py'"
   ]
  },
  {
   "cell_type": "code",
   "execution_count": null,
   "metadata": {
    "colab": {
     "base_uri": "https://localhost:8080/",
     "height": 381
    },
    "executionInfo": {
     "elapsed": 7,
     "status": "error",
     "timestamp": 1651744003107,
     "user": {
      "displayName": "Inno ai",
      "userId": "16758988899815127547"
     },
     "user_tz": -180
    },
    "id": "LbsWOw62_o-X",
    "outputId": "a6963a08-b638-4ad9-e223-2f4bcc7f8cd7"
   },
   "outputs": [],
   "source": [
    "from mmseg.datasets.builder import DATASETS\n",
    "from mmseg.datasets.custom import CustomDataset\n",
    "\n",
    "@DATASETS.register_module()\n",
    "class Potohole600Dataset(CustomDataset):\n",
    "  CLASSES = classes\n",
    "  PALETTE = palette\n",
    "  def __init__(self, split, **kwargs):\n",
    "    super().__init__(img_suffix='.png', seg_map_suffix='.png', \n",
    "                     split=split, **kwargs)\n",
    "    assert osp.exists(self.img_dir)\n",
    "    assert self.split is not None\n",
    "    "
   ]
  }
 ],
 "metadata": {
  "colab": {
   "collapsed_sections": [
    "eUcuC3dUv32I",
    "cs4gJZQSr3if"
   ],
   "machine_shape": "hm",
   "name": "HERON Cracks MMSegmentation.ipynb",
   "provenance": [
    {
     "file_id": "https://github.com/open-mmlab/mmsegmentation/blob/master/demo/MMSegmentation_Tutorial.ipynb",
     "timestamp": 1650290840950
    }
   ]
  },
  "kernelspec": {
   "display_name": "Python 3 (ipykernel)",
   "language": "python",
   "name": "python3"
  },
  "language_info": {
   "codemirror_mode": {
    "name": "ipython",
    "version": 3
   },
   "file_extension": ".py",
   "mimetype": "text/x-python",
   "name": "python",
   "nbconvert_exporter": "python",
   "pygments_lexer": "ipython3",
   "version": "3.8.13"
  },
  "pycharm": {
   "stem_cell": {
    "cell_type": "raw",
    "metadata": {
     "collapsed": false
    },
    "source": []
   }
  },
  "widgets": {
   "application/vnd.jupyter.widget-state+json": {
    "0d6e09d72df34fca856b7a31f9a76509": {
     "model_module": "@jupyter-widgets/controls",
     "model_module_version": "1.5.0",
     "model_name": "FloatProgressModel",
     "state": {
      "_dom_classes": [],
      "_model_module": "@jupyter-widgets/controls",
      "_model_module_version": "1.5.0",
      "_model_name": "FloatProgressModel",
      "_view_count": null,
      "_view_module": "@jupyter-widgets/controls",
      "_view_module_version": "1.5.0",
      "_view_name": "ProgressView",
      "bar_style": "",
      "description": "",
      "description_tooltip": null,
      "layout": "IPY_MODEL_26454193616942a4ac15f20b71148a99",
      "max": 1,
      "min": 0,
      "orientation": "horizontal",
      "style": "IPY_MODEL_28427c3a3d2743879ed5b3aca10041cc",
      "value": 1
     }
    },
    "1624ce9a52f34cd7b64e484bb6fb2c83": {
     "model_module": "@jupyter-widgets/base",
     "model_module_version": "1.2.0",
     "model_name": "LayoutModel",
     "state": {
      "_model_module": "@jupyter-widgets/base",
      "_model_module_version": "1.2.0",
      "_model_name": "LayoutModel",
      "_view_count": null,
      "_view_module": "@jupyter-widgets/base",
      "_view_module_version": "1.2.0",
      "_view_name": "LayoutView",
      "align_content": null,
      "align_items": null,
      "align_self": null,
      "border": null,
      "bottom": null,
      "display": null,
      "flex": null,
      "flex_flow": null,
      "grid_area": null,
      "grid_auto_columns": null,
      "grid_auto_flow": null,
      "grid_auto_rows": null,
      "grid_column": null,
      "grid_gap": null,
      "grid_row": null,
      "grid_template_areas": null,
      "grid_template_columns": null,
      "grid_template_rows": null,
      "height": null,
      "justify_content": null,
      "justify_items": null,
      "left": null,
      "margin": null,
      "max_height": null,
      "max_width": null,
      "min_height": null,
      "min_width": null,
      "object_fit": null,
      "object_position": null,
      "order": null,
      "overflow": null,
      "overflow_x": null,
      "overflow_y": null,
      "padding": null,
      "right": null,
      "top": null,
      "visibility": null,
      "width": null
     }
    },
    "26454193616942a4ac15f20b71148a99": {
     "model_module": "@jupyter-widgets/base",
     "model_module_version": "1.2.0",
     "model_name": "LayoutModel",
     "state": {
      "_model_module": "@jupyter-widgets/base",
      "_model_module_version": "1.2.0",
      "_model_name": "LayoutModel",
      "_view_count": null,
      "_view_module": "@jupyter-widgets/base",
      "_view_module_version": "1.2.0",
      "_view_name": "LayoutView",
      "align_content": null,
      "align_items": null,
      "align_self": null,
      "border": null,
      "bottom": null,
      "display": null,
      "flex": null,
      "flex_flow": null,
      "grid_area": null,
      "grid_auto_columns": null,
      "grid_auto_flow": null,
      "grid_auto_rows": null,
      "grid_column": null,
      "grid_gap": null,
      "grid_row": null,
      "grid_template_areas": null,
      "grid_template_columns": null,
      "grid_template_rows": null,
      "height": null,
      "justify_content": null,
      "justify_items": null,
      "left": null,
      "margin": null,
      "max_height": null,
      "max_width": null,
      "min_height": null,
      "min_width": null,
      "object_fit": null,
      "object_position": null,
      "order": null,
      "overflow": null,
      "overflow_x": null,
      "overflow_y": null,
      "padding": null,
      "right": null,
      "top": null,
      "visibility": null,
      "width": null
     }
    },
    "28427c3a3d2743879ed5b3aca10041cc": {
     "model_module": "@jupyter-widgets/controls",
     "model_module_version": "1.5.0",
     "model_name": "ProgressStyleModel",
     "state": {
      "_model_module": "@jupyter-widgets/controls",
      "_model_module_version": "1.5.0",
      "_model_name": "ProgressStyleModel",
      "_view_count": null,
      "_view_module": "@jupyter-widgets/base",
      "_view_module_version": "1.2.0",
      "_view_name": "StyleView",
      "bar_color": null,
      "description_width": ""
     }
    },
    "372deac73af241fd96508138bceaf535": {
     "model_module": "@jupyter-widgets/base",
     "model_module_version": "1.2.0",
     "model_name": "LayoutModel",
     "state": {
      "_model_module": "@jupyter-widgets/base",
      "_model_module_version": "1.2.0",
      "_model_name": "LayoutModel",
      "_view_count": null,
      "_view_module": "@jupyter-widgets/base",
      "_view_module_version": "1.2.0",
      "_view_name": "LayoutView",
      "align_content": null,
      "align_items": null,
      "align_self": null,
      "border": null,
      "bottom": null,
      "display": null,
      "flex": null,
      "flex_flow": null,
      "grid_area": null,
      "grid_auto_columns": null,
      "grid_auto_flow": null,
      "grid_auto_rows": null,
      "grid_column": null,
      "grid_gap": null,
      "grid_row": null,
      "grid_template_areas": null,
      "grid_template_columns": null,
      "grid_template_rows": null,
      "height": null,
      "justify_content": null,
      "justify_items": null,
      "left": null,
      "margin": null,
      "max_height": null,
      "max_width": null,
      "min_height": null,
      "min_width": null,
      "object_fit": null,
      "object_position": null,
      "order": null,
      "overflow": null,
      "overflow_x": null,
      "overflow_y": null,
      "padding": null,
      "right": null,
      "top": null,
      "visibility": null,
      "width": null
     }
    },
    "52e0f6fed82e44588bd550347212f76e": {
     "model_module": "@jupyter-widgets/controls",
     "model_module_version": "1.5.0",
     "model_name": "DescriptionStyleModel",
     "state": {
      "_model_module": "@jupyter-widgets/controls",
      "_model_module_version": "1.5.0",
      "_model_name": "DescriptionStyleModel",
      "_view_count": null,
      "_view_module": "@jupyter-widgets/base",
      "_view_module_version": "1.2.0",
      "_view_name": "StyleView",
      "description_width": ""
     }
    },
    "e47853c85b0649f0a045f6e0a4331cc6": {
     "model_module": "@jupyter-widgets/controls",
     "model_module_version": "1.5.0",
     "model_name": "LabelModel",
     "state": {
      "_dom_classes": [],
      "_model_module": "@jupyter-widgets/controls",
      "_model_module_version": "1.5.0",
      "_model_name": "LabelModel",
      "_view_count": null,
      "_view_module": "@jupyter-widgets/controls",
      "_view_module_version": "1.5.0",
      "_view_name": "LabelView",
      "description": "",
      "description_tooltip": null,
      "layout": "IPY_MODEL_1624ce9a52f34cd7b64e484bb6fb2c83",
      "placeholder": "​",
      "style": "IPY_MODEL_52e0f6fed82e44588bd550347212f76e",
      "value": "0.012 MB of 0.012 MB uploaded (0.000 MB deduped)\r"
     }
    },
    "ff8caaf173d8490b9a37f078ae98ef57": {
     "model_module": "@jupyter-widgets/controls",
     "model_module_version": "1.5.0",
     "model_name": "VBoxModel",
     "state": {
      "_dom_classes": [],
      "_model_module": "@jupyter-widgets/controls",
      "_model_module_version": "1.5.0",
      "_model_name": "VBoxModel",
      "_view_count": null,
      "_view_module": "@jupyter-widgets/controls",
      "_view_module_version": "1.5.0",
      "_view_name": "VBoxView",
      "box_style": "",
      "children": [
       "IPY_MODEL_e47853c85b0649f0a045f6e0a4331cc6",
       "IPY_MODEL_0d6e09d72df34fca856b7a31f9a76509"
      ],
      "layout": "IPY_MODEL_372deac73af241fd96508138bceaf535"
     }
    }
   }
  }
 },
 "nbformat": 4,
 "nbformat_minor": 4
}
